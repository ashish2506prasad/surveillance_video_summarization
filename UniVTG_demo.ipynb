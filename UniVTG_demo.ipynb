{
  "cells": [
    {
      "cell_type": "code",
      "execution_count": null,
      "metadata": {
        "collapsed": true,
        "id": "PR331zOjEgLA"
      },
      "outputs": [],
      "source": [
        "! git clone https://github.com/showlab/UniVTG"
      ]
    },
    {
      "cell_type": "code",
      "execution_count": null,
      "metadata": {
        "collapsed": true,
        "id": "XNUdfyCU30C3"
      },
      "outputs": [],
      "source": [
        "! pip install kaleido\n",
        "! pip install cohere\n",
        "! pip install openai\n",
        "! pip install tiktoken\n",
        "! pip install gradio\n",
        "! pip install ffmpeg\n",
        "! pip install ftfy\n",
        "! pip install torchaudio==2.1.0+cu121 torchdata==0.7.0 torchtext==0.16.0 torchvision==0.16.0+cu121\n",
        "! pip install --upgrade torch torchaudio torchdata torchtext torchvision\n",
        "! pip install torch -U\n",
        "! pip install -r /content/UniVTG/requirements.txt"
      ]
    },
    {
      "cell_type": "code",
      "execution_count": null,
      "metadata": {
        "collapsed": true,
        "id": "mio9p4lT3UUD"
      },
      "outputs": [],
      "source": [
        "from google.colab import drive\n",
        "drive.mount('/content/drive')"
      ]
    },
    {
      "cell_type": "code",
      "execution_count": null,
      "metadata": {
        "id": "XwPvy0qq5TBU",
        "collapsed": true
      },
      "outputs": [],
      "source": [
        "! python3 /content/UniVTG/main_gradio.py --resume /content/UniVTG/results/omni/model_best.ckpt --gpu_id 0"
      ]
    },
    {
      "cell_type": "code",
      "source": [],
      "metadata": {
        "id": "5TgY7VyAG12k"
      },
      "execution_count": 27,
      "outputs": []
    },
    {
      "cell_type": "code",
      "source": [],
      "metadata": {
        "id": "IUU5LvpBVrc_"
      },
      "execution_count": null,
      "outputs": []
    }
  ],
  "metadata": {
    "accelerator": "GPU",
    "colab": {
      "provenance": [],
      "gpuType": "T4"
    },
    "kernelspec": {
      "display_name": "Python 3",
      "name": "python3"
    },
    "language_info": {
      "name": "python"
    }
  },
  "nbformat": 4,
  "nbformat_minor": 0
}